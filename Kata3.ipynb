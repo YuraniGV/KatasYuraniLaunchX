{
 "cells": [
  {
   "cell_type": "code",
   "execution_count": null,
   "metadata": {},
   "outputs": [],
   "source": []
  },
  {
   "cell_type": "markdown",
   "metadata": {},
   "source": [
    "# Escribir declaraciones if, else, y elif\n",
    "## Problema No.1"
   ]
  },
  {
   "cell_type": "code",
   "execution_count": 4,
   "metadata": {},
   "outputs": [
    {
     "name": "stdout",
     "output_type": "stream",
     "text": [
      "¡Alert! ¡An asteroid is approaching at dangerous speeds!\n"
     ]
    }
   ],
   "source": [
    "asteroid = 50\n",
    "if asteroid > 24:\n",
    "    print('¡Alert! ¡An asteroid is approaching at dangerous speeds!')\n",
    "else:\n",
    "    print('¡Get on with your day!')"
   ]
  },
  {
   "cell_type": "markdown",
   "metadata": {},
   "source": [
    "## Problema No.2"
   ]
  },
  {
   "cell_type": "code",
   "execution_count": 5,
   "metadata": {},
   "outputs": [
    {
     "name": "stdout",
     "output_type": "stream",
     "text": [
      "Look up! ¡There is a magical light in the sky!\n"
     ]
    }
   ],
   "source": [
    "asteroide = 20\n",
    "if asteroid > 21:\n",
    "    print('Look up! ¡There is a magical light in the sky!')\n",
    "elif asteroid == 21:\n",
    "    print('Look up! ¡There is a magical light in the sky!')\n",
    "else:\n",
    "    print('¡Nothing to see here!')"
   ]
  },
  {
   "cell_type": "markdown",
   "metadata": {},
   "source": [
    "# Ejercicio: Uso de operadores and y or\n",
    "## Problema No.3"
   ]
  },
  {
   "cell_type": "code",
   "execution_count": 7,
   "metadata": {},
   "outputs": [
    {
     "name": "stdout",
     "output_type": "stream",
     "text": [
      "Look up! ¡There is a magical light in the sky!\n"
     ]
    }
   ],
   "source": [
    "speed_asteroid = 26\n",
    "size_asteroid = 41\n",
    "if speed_asteroid > 26 and size_asteroid > 26:\n",
    "    print('¡Alert, An asteroid is approaching at dangerous speeds!')\n",
    "elif speed_asteroid >= 21:\n",
    "    print('Look up! ¡There is a magical light in the sky!')\n",
    "elif size_asteroid < 26:\n",
    "    print('Nothing to see here')\n",
    "else:\n",
    "    print('¡Nothing to see here!')"
   ]
  }
 ],
 "metadata": {
  "interpreter": {
   "hash": "33541a670e8887513ebdf0f19cec6625b51694c5ef6b1c7e83282c54d5cd54e5"
  },
  "kernelspec": {
   "display_name": "Python 3.10.2 64-bit",
   "language": "python",
   "name": "python3"
  },
  "language_info": {
   "codemirror_mode": {
    "name": "ipython",
    "version": 3
   },
   "file_extension": ".py",
   "mimetype": "text/x-python",
   "name": "python",
   "nbconvert_exporter": "python",
   "pygments_lexer": "ipython3",
   "version": "3.10.2"
  },
  "orig_nbformat": 4
 },
 "nbformat": 4,
 "nbformat_minor": 2
}
